{
  "nbformat": 4,
  "nbformat_minor": 0,
  "metadata": {
    "colab": {
      "name": "C3. Configuración quickstart.ipynb",
      "provenance": [],
      "collapsed_sections": [],
      "authorship_tag": "ABX9TyPd4bvMgLLFFF2nU/EoJmZT"
    },
    "kernelspec": {
      "name": "python3",
      "display_name": "Python 3"
    }
  },
  "cells": [
    {
      "cell_type": "markdown",
      "metadata": {
        "id": "ZdIQ8RBcGQIY",
        "colab_type": "text"
      },
      "source": [
        "# Cómo usar NLTK en Google Colab"
      ]
    },
    {
      "cell_type": "code",
      "metadata": {
        "id": "IT91odXgGPP-",
        "colab_type": "code",
        "colab": {
          "base_uri": "https://localhost:8080/",
          "height": 68
        },
        "outputId": "485def7d-26c2-4655-a5c5-a5a471a9a240"
      },
      "source": [
        "import nltk\n",
        "\n",
        "# Importamos las bases de datos de text (Corpus, corpora)\n",
        "nltk.download('cess_esp')  # Corpues de textos en español"
      ],
      "execution_count": 2,
      "outputs": [
        {
          "output_type": "stream",
          "text": [
            "[nltk_data] Downloading package cess_esp to /root/nltk_data...\n",
            "[nltk_data]   Unzipping corpora/cess_esp.zip.\n"
          ],
          "name": "stdout"
        },
        {
          "output_type": "execute_result",
          "data": {
            "text/plain": [
              "True"
            ]
          },
          "metadata": {
            "tags": []
          },
          "execution_count": 2
        }
      ]
    },
    {
      "cell_type": "markdown",
      "metadata": {
        "id": "P25EepMLIzHy",
        "colab_type": "text"
      },
      "source": [
        "# Expresiones Regulares\n",
        "\n",
        "\n",
        "*   Constituyen un lenguaje estandarizado para definir cadenas de búsqueda de texto\n",
        "*   Librría de operaciones con expresiones regulares de python [`re`](https://docs.python.org/3/library/re.html)\n",
        "*   Reglas para escibir expresiones regulares [Wiki](https://es.wikipedia.org/wiki/Expresión_regular)\n",
        "\n"
      ]
    },
    {
      "cell_type": "code",
      "metadata": {
        "id": "t6tJCjZSJpdx",
        "colab_type": "code",
        "colab": {
          "base_uri": "https://localhost:8080/",
          "height": 71
        },
        "outputId": "de1eae59-42e8-447b-b54b-5764639246a1"
      },
      "source": [
        "import re\n",
        "corpus = nltk.corpus.cess_esp.sents()\n",
        "print(corpus)\n",
        "print(len(corpus))"
      ],
      "execution_count": 5,
      "outputs": [
        {
          "output_type": "stream",
          "text": [
            "[['El', 'grupo', 'estatal', 'Electricité_de_France', '-Fpa-', 'EDF', '-Fpt-', 'anunció', 'hoy', ',', 'jueves', ',', 'la', 'compra', 'del', '51_por_ciento', 'de', 'la', 'empresa', 'mexicana', 'Electricidad_Águila_de_Altamira', '-Fpa-', 'EAA', '-Fpt-', ',', 'creada', 'por', 'el', 'japonés', 'Mitsubishi_Corporation', 'para', 'poner_en_marcha', 'una', 'central', 'de', 'gas', 'de', '495', 'megavatios', '.'], ['Una', 'portavoz', 'de', 'EDF', 'explicó', 'a', 'EFE', 'que', 'el', 'proyecto', 'para', 'la', 'construcción', 'de', 'Altamira_2', ',', 'al', 'norte', 'de', 'Tampico', ',', 'prevé', 'la', 'utilización', 'de', 'gas', 'natural', 'como', 'combustible', 'principal', 'en', 'una', 'central', 'de', 'ciclo', 'combinado', 'que', 'debe', 'empezar', 'a', 'funcionar', 'en', 'mayo_del_2002', '.'], ...]\n",
            "6030\n"
          ],
          "name": "stdout"
        }
      ]
    },
    {
      "cell_type": "code",
      "metadata": {
        "id": "H_7rbtNVJ3va",
        "colab_type": "code",
        "colab": {
          "base_uri": "https://localhost:8080/",
          "height": 51
        },
        "outputId": "736cc23d-1a80-4023-ea68-c743593ce9ca"
      },
      "source": [
        "# Aplanar la lista (Flatten)\n",
        "flatten = [words for lista in corpus for words in lista]\n",
        "print(len(flatten))\n",
        "print(flatten[:10])"
      ],
      "execution_count": 8,
      "outputs": [
        {
          "output_type": "stream",
          "text": [
            "192685\n",
            "['El', 'grupo', 'estatal', 'Electricité_de_France', '-Fpa-', 'EDF', '-Fpt-', 'anunció', 'hoy', ',']\n"
          ],
          "name": "stdout"
        }
      ]
    },
    {
      "cell_type": "markdown",
      "metadata": {
        "id": "n6OT1HDnLTa3",
        "colab_type": "text"
      },
      "source": [
        "## Estructura de la función `re.search()`\n",
        "\n",
        "Determina si el patrón de búsqueda p está contenido en la casena s `re.search(pattern, string)`"
      ]
    },
    {
      "cell_type": "code",
      "metadata": {
        "id": "kYvWqwLKKibc",
        "colab_type": "code",
        "colab": {}
      },
      "source": [
        "arr = [w for w in flatten if re.search('es', w)]"
      ],
      "execution_count": 0,
      "outputs": []
    },
    {
      "cell_type": "code",
      "metadata": {
        "id": "EBBDhg-GOAnv",
        "colab_type": "code",
        "colab": {
          "base_uri": "https://localhost:8080/",
          "height": 34
        },
        "outputId": "d96c39ec-3535-4395-be18-f3eaa7b502af"
      },
      "source": [
        "print(arr[:5])  # Imprimimos los primeros 5 elementos"
      ],
      "execution_count": 11,
      "outputs": [
        {
          "output_type": "stream",
          "text": [
            "['estatal', 'jueves', 'empresa', 'centrales', 'francesa']\n"
          ],
          "name": "stdout"
        }
      ]
    },
    {
      "cell_type": "code",
      "metadata": {
        "id": "FFNRDS9gOJJM",
        "colab_type": "code",
        "colab": {
          "base_uri": "https://localhost:8080/",
          "height": 34
        },
        "outputId": "e885049a-1945-478f-ddaa-7e8a3634137e"
      },
      "source": [
        "arr = [w for w in flatten if re.search('es$', w)]  # Con ($) La subcadena 'es' debe estar sólo al final\n",
        "print(arr[:5])"
      ],
      "execution_count": 12,
      "outputs": [
        {
          "output_type": "stream",
          "text": [
            "['jueves', 'centrales', 'millones', 'millones', 'dólares']\n"
          ],
          "name": "stdout"
        }
      ]
    },
    {
      "cell_type": "code",
      "metadata": {
        "id": "1LL4llnkOoqt",
        "colab_type": "code",
        "colab": {
          "base_uri": "https://localhost:8080/",
          "height": 34
        },
        "outputId": "95280d23-db55-4ec2-b9d8-6b60a849f6f2"
      },
      "source": [
        "arr = [w for w in flatten if re.search('^es', w)]  # Con (^) La subcadena 'es' debe estar sólo al comienzo\n",
        "print(arr[:5])"
      ],
      "execution_count": 13,
      "outputs": [
        {
          "output_type": "stream",
          "text": [
            "['estatal', 'es', 'esta', 'esta', 'eso']\n"
          ],
          "name": "stdout"
        }
      ]
    },
    {
      "cell_type": "code",
      "metadata": {
        "id": "MhggFQKaOvmh",
        "colab_type": "code",
        "colab": {
          "base_uri": "https://localhost:8080/",
          "height": 34
        },
        "outputId": "89882cc2-4bf4-4d1f-ac84-05131691faf5"
      },
      "source": [
        "# Rango [a-z]:  El caracter debe ser minuscula y estar entre la a y z\n",
        "# arr = [w for w in flatten if re.search('[a-z]', w)] \n",
        "\n",
        "# [ghi]: El caracter en esta posición pueder ser cualquier letra entre la g h i (Cualquiera de ellas)\n",
        "arr = [w for w in flatten if re.search('^[ghi]', w)] \n",
        "print(arr[:10])"
      ],
      "execution_count": 14,
      "outputs": [
        {
          "output_type": "stream",
          "text": [
            "['grupo', 'hoy', 'gas', 'gas', 'intervendrá', 'invertir', 'gas', 'hoy', 'insulto', 'intervención']\n"
          ],
          "name": "stdout"
        }
      ]
    },
    {
      "cell_type": "code",
      "metadata": {
        "id": "tIDkXYkdPwwb",
        "colab_type": "code",
        "colab": {
          "base_uri": "https://localhost:8080/",
          "height": 51
        },
        "outputId": "ff5161ef-624b-46cf-86d7-c2f72e7eee64"
      },
      "source": [
        "# Clausura\n",
        "\"\"\"\n",
        "* Repetir 0 o más veces\n",
        "+ Repetir una cadena 1 o más veces \n",
        "\"\"\"\n",
        "arr = [w for w in flatten if re.search('^(no)*', w)]  # Busca la secuencia 'no' al principio, que debe aparecer 0 o más veces\n",
        "print(arr[:5])\n",
        "\n",
        "arr = [w for w in flatten if re.search('^(no)+', w)]  # Busca la secuencia 'no' al comienzo, que debe aparecer al menos una vez\n",
        "print(arr[:5])"
      ],
      "execution_count": 16,
      "outputs": [
        {
          "output_type": "stream",
          "text": [
            "['El', 'grupo', 'estatal', 'Electricité_de_France', '-Fpa-']\n",
            "['norte', 'no', 'no', 'noche', 'no']\n"
          ],
          "name": "stdout"
        }
      ]
    },
    {
      "cell_type": "markdown",
      "metadata": {
        "id": "36YkkhVGRJBp",
        "colab_type": "text"
      },
      "source": [
        "## **Normalización de Texto** (Como aplicación de las expresiones regulares)"
      ]
    },
    {
      "cell_type": "code",
      "metadata": {
        "id": "Wmw73KjlQOTa",
        "colab_type": "code",
        "colab": {
          "base_uri": "https://localhost:8080/",
          "height": 68
        },
        "outputId": "880ca522-19c4-4c3c-cf8b-031b988e2e91"
      },
      "source": [
        "# raw  => texto plano\n",
        "print('Ésta es \\n una prueba')  # Sin texto plano\n",
        "print(r'Ésta es \\n una prueba')  # Con texto plano (r)"
      ],
      "execution_count": 18,
      "outputs": [
        {
          "output_type": "stream",
          "text": [
            "Ésta es \n",
            " una prueba\n",
            "Ésta es \\n una prueba\n"
          ],
          "name": "stdout"
        }
      ]
    },
    {
      "cell_type": "markdown",
      "metadata": {
        "id": "2bfqL0cgRtaj",
        "colab_type": "text"
      },
      "source": [
        "**Tokenización**: Es el proceso mediante el cual se sub-divide una cadena de texto en unidades lingüísticas mínimas (palabras)"
      ]
    },
    {
      "cell_type": "code",
      "metadata": {
        "id": "Iz0zT-8MRcTN",
        "colab_type": "code",
        "colab": {}
      },
      "source": [
        "texto = \"\"\" Cuando sea el rey del mundo (imaginaba élensu cabeza) no tendré que  preocuparme por estas bobadas. \n",
        "            Era solo un niño de 7 años, pero pensaba que podría ser cualquier cosa quesu imaginación le permitiera \n",
        "            visualizar ensu cabeza ...\"\"\" "
      ],
      "execution_count": 0,
      "outputs": []
    },
    {
      "cell_type": "code",
      "metadata": {
        "id": "xNSmNo5HSC61",
        "colab_type": "code",
        "colab": {
          "base_uri": "https://localhost:8080/",
          "height": 54
        },
        "outputId": "7e3b3d53-5213-4d63-c2a7-d452515cf865"
      },
      "source": [
        "# Caso 1: Tokenizar por espacios vacíos\n",
        "print(re.split(r' ', texto))"
      ],
      "execution_count": 20,
      "outputs": [
        {
          "output_type": "stream",
          "text": [
            "['', 'Cuando', 'sea', 'el', 'rey', 'del', 'mundo', '(imaginaba', 'élensu', 'cabeza)', 'no', 'tendré', 'que', '', 'preocuparme', 'por', 'estas', 'bobadas.', '\\n', '', '', '', '', '', '', '', '', '', '', '', 'Era', 'solo', 'un', 'niño', 'de', '7', 'años,', 'pero', 'pensaba', 'que', 'podría', 'ser', 'cualquier', 'cosa', 'quesu', 'imaginación', 'le', 'permitiera', '\\n', '', '', '', '', '', '', '', '', '', '', '', 'visualizar', 'ensu', 'cabeza', '...']\n"
          ],
          "name": "stdout"
        }
      ]
    },
    {
      "cell_type": "code",
      "metadata": {
        "id": "QGlC4sN8SQes",
        "colab_type": "code",
        "colab": {
          "base_uri": "https://localhost:8080/",
          "height": 54
        },
        "outputId": "464eebcc-a7e9-4299-c790-1470de7b71be"
      },
      "source": [
        "# Caso 2: Tokenización usando regex  (El rango en regex se usa con [])\n",
        "print(re.split(r'[ \\t\\n]+', texto))"
      ],
      "execution_count": 21,
      "outputs": [
        {
          "output_type": "stream",
          "text": [
            "['', 'Cuando', 'sea', 'el', 'rey', 'del', 'mundo', '(imaginaba', 'élensu', 'cabeza)', 'no', 'tendré', 'que', 'preocuparme', 'por', 'estas', 'bobadas.', 'Era', 'solo', 'un', 'niño', 'de', '7', 'años,', 'pero', 'pensaba', 'que', 'podría', 'ser', 'cualquier', 'cosa', 'quesu', 'imaginación', 'le', 'permitiera', 'visualizar', 'ensu', 'cabeza', '...']\n"
          ],
          "name": "stdout"
        }
      ]
    },
    {
      "cell_type": "code",
      "metadata": {
        "id": "1qcjvqANSvAp",
        "colab_type": "code",
        "colab": {
          "base_uri": "https://localhost:8080/",
          "height": 54
        },
        "outputId": "e03e7104-9cb6-4be5-cf11-938744526203"
      },
      "source": [
        "# Caso 3: \n",
        "\"\"\"\n",
        "El metacaracter \\W lo que hace es hacer match con todo lo que no sea un caracter alfanumérico \n",
        "(como paréntesis, símbolos raros, etc.)\n",
        "\"\"\"\n",
        "print(re.split(r'[ \\W\\t\\n]+', texto))"
      ],
      "execution_count": 24,
      "outputs": [
        {
          "output_type": "stream",
          "text": [
            "['', 'Cuando', 'sea', 'el', 'rey', 'del', 'mundo', 'imaginaba', 'élensu', 'cabeza', 'no', 'tendré', 'que', 'preocuparme', 'por', 'estas', 'bobadas', 'Era', 'solo', 'un', 'niño', 'de', '7', 'años', 'pero', 'pensaba', 'que', 'podría', 'ser', 'cualquier', 'cosa', 'quesu', 'imaginación', 'le', 'permitiera', 'visualizar', 'ensu', 'cabeza', '']\n"
          ],
          "name": "stdout"
        }
      ]
    },
    {
      "cell_type": "markdown",
      "metadata": {
        "id": "Ekg21aFQTKiq",
        "colab_type": "text"
      },
      "source": [
        "## **Tokenización de NLTK** (La mejor de todas)"
      ]
    },
    {
      "cell_type": "code",
      "metadata": {
        "id": "i7S5gEvJS7ho",
        "colab_type": "code",
        "colab": {
          "base_uri": "https://localhost:8080/",
          "height": 34
        },
        "outputId": "db7abf0b-9339-4e4a-c358-2bd3aaebeb46"
      },
      "source": [
        "texto = 'En los E.U. esa postal vale $15.50 ...'\n",
        "print(re.split(r'[ \\W\\t\\n]+', texto))  # El Regex falla al tokenizar E.U. y $15.50"
      ],
      "execution_count": 25,
      "outputs": [
        {
          "output_type": "stream",
          "text": [
            "['En', 'los', 'E', 'U', 'esa', 'postal', 'vale', '15', '50', '']\n"
          ],
          "name": "stdout"
        }
      ]
    },
    {
      "cell_type": "code",
      "metadata": {
        "id": "c8n_VT2iTahz",
        "colab_type": "code",
        "colab": {
          "base_uri": "https://localhost:8080/",
          "height": 34
        },
        "outputId": "2e7dc9de-a4e8-41b0-93c4-8f867d64d8f5"
      },
      "source": [
        "pattern = r'''(?x)                  # Flag para iniciar el modo verbose\n",
        "              (?:[A-Z]\\.)+          # Hace match con abreviaciones como U.S.A.\n",
        "              | \\w+(?:-\\w+)*        # Hace match con palabras que pueden tener un guión interno\n",
        "              | \\$?\\d+(?:\\.\\d+)?%?  # Hace match con dinero o porcentajes como $15.5 o 100%\n",
        "              | \\.\\.\\.              # Hace match con puntos suspensivos\n",
        "              | [][.,;\"'?():-_`]    # Hace match con signos de puntuación\n",
        "'''\n",
        "nltk.regexp_tokenize(texto, pattern)"
      ],
      "execution_count": 26,
      "outputs": [
        {
          "output_type": "execute_result",
          "data": {
            "text/plain": [
              "['En', 'los', 'E.U.', 'esa', 'postal', 'vale', '$15.50', '...']"
            ]
          },
          "metadata": {
            "tags": []
          },
          "execution_count": 26
        }
      ]
    }
  ]
}