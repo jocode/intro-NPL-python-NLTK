{
  "nbformat": 4,
  "nbformat_minor": 0,
  "metadata": {
    "colab": {
      "name": "C4. text_vocab_statistics.ipynb",
      "provenance": [],
      "collapsed_sections": [],
      "authorship_tag": "ABX9TyOraBjXQ+eNlMF+bllYX+uP"
    },
    "kernelspec": {
      "name": "python3",
      "display_name": "Python 3"
    }
  },
  "cells": [
    {
      "cell_type": "markdown",
      "metadata": {
        "id": "swCa3YlbhxXr",
        "colab_type": "text"
      },
      "source": [
        "# Estadísticas básicas del lenguaje\n",
        "\n",
        "## Configuración inicial\n",
        "\n",
        "En este notebook vamos a descargar el dataset book que contiene muchos libros en inglés en formato de texto tokenizado, de los cuales vamos a hacer procesamiento"
      ]
    },
    {
      "cell_type": "code",
      "metadata": {
        "id": "-Q-_udYvhn_x",
        "colab_type": "code",
        "colab": {}
      },
      "source": [
        "import nltk\n",
        "nltk.download('book')\n",
        "from nltk.book import *\n",
        "import matplotlib.pyplot as plt\n",
        "import numpy as np"
      ],
      "execution_count": 0,
      "outputs": []
    },
    {
      "cell_type": "markdown",
      "metadata": {
        "id": "FVw6f4Ndis5r",
        "colab_type": "text"
      },
      "source": [
        "# Analizando un texto"
      ]
    },
    {
      "cell_type": "code",
      "metadata": {
        "id": "9diZjxV6iYw_",
        "colab_type": "code",
        "outputId": "bba1675a-f12c-4ecc-e256-20ee52d5da57",
        "colab": {
          "base_uri": "https://localhost:8080/",
          "height": 170
        }
      },
      "source": [
        "texts()"
      ],
      "execution_count": 0,
      "outputs": [
        {
          "output_type": "stream",
          "text": [
            "text1: Moby Dick by Herman Melville 1851\n",
            "text2: Sense and Sensibility by Jane Austen 1811\n",
            "text3: The Book of Genesis\n",
            "text4: Inaugural Address Corpus\n",
            "text5: Chat Corpus\n",
            "text6: Monty Python and the Holy Grail\n",
            "text7: Wall Street Journal\n",
            "text8: Personals Corpus\n",
            "text9: The Man Who Was Thursday by G . K . Chesterton 1908\n"
          ],
          "name": "stdout"
        }
      ]
    },
    {
      "cell_type": "code",
      "metadata": {
        "id": "Cko1T4NuiqC0",
        "colab_type": "code",
        "outputId": "bea38e57-e6c0-41b9-8ce0-6611cec0c597",
        "colab": {
          "base_uri": "https://localhost:8080/",
          "height": 34
        }
      },
      "source": [
        "text1"
      ],
      "execution_count": 0,
      "outputs": [
        {
          "output_type": "execute_result",
          "data": {
            "text/plain": [
              "<Text: Moby Dick by Herman Melville 1851>"
            ]
          },
          "metadata": {
            "tags": []
          },
          "execution_count": 5
        }
      ]
    },
    {
      "cell_type": "code",
      "metadata": {
        "id": "rcinpVbwir7g",
        "colab_type": "code",
        "outputId": "e53e54bb-9b6f-4e11-cff6-d123caa56fe9",
        "colab": {
          "base_uri": "https://localhost:8080/",
          "height": 187
        }
      },
      "source": [
        "text1.tokens[:10]"
      ],
      "execution_count": 0,
      "outputs": [
        {
          "output_type": "execute_result",
          "data": {
            "text/plain": [
              "['[',\n",
              " 'Moby',\n",
              " 'Dick',\n",
              " 'by',\n",
              " 'Herman',\n",
              " 'Melville',\n",
              " '1851',\n",
              " ']',\n",
              " 'ETYMOLOGY',\n",
              " '.']"
            ]
          },
          "metadata": {
            "tags": []
          },
          "execution_count": 6
        }
      ]
    },
    {
      "cell_type": "code",
      "metadata": {
        "id": "B0LoJeMIizXx",
        "colab_type": "code",
        "outputId": "fe48e1f3-481a-4acb-832d-ab1511de59d0",
        "colab": {
          "base_uri": "https://localhost:8080/",
          "height": 34
        }
      },
      "source": [
        "print(len(text1))"
      ],
      "execution_count": 0,
      "outputs": [
        {
          "output_type": "stream",
          "text": [
            "260819\n"
          ],
          "name": "stdout"
        }
      ]
    },
    {
      "cell_type": "markdown",
      "metadata": {
        "id": "n96JhnBUi8ET",
        "colab_type": "text"
      },
      "source": [
        "## Medida de riqueza léxica de un texto\n",
        "\n",
        "$$ R_l =  \\frac{\\text{total de palabras únicas}}{\\text{total de palabras}} = \\frac{\\text{longitud del vocabulario}}{\\text{longitud del texto}} \\\\  $$\n",
        "\n",
        "**NOTA**\n",
        "\n",
        "Para usar Latex en Colab o Jupyter éste recurso es muy importante a tener encuenta\n",
        "[Learn How to Write Markdown & LaTeX in The Jupyter Notebook](https://towardsdatascience.com/write-markdown-latex-in-the-jupyter-notebook-10985edb91fd)"
      ]
    },
    {
      "cell_type": "code",
      "metadata": {
        "id": "2n5UI4pti6BL",
        "colab_type": "code",
        "outputId": "f27aa779-afc9-4b39-a07c-9f3f5d3d1f0f",
        "colab": {
          "base_uri": "https://localhost:8080/",
          "height": 34
        }
      },
      "source": [
        "# La función 'set' en python busca los tokens repetidos y los deja una sola vez. Esta funcion devuelve un diccionario\n",
        "# Usamos sorted para ordenar alfabeticamente los datos y que los devuelva en una lista\n",
        "vocabulario = sorted(set(text1))  \n",
        "print(vocabulario[1000:1010])"
      ],
      "execution_count": 0,
      "outputs": [
        {
          "output_type": "stream",
          "text": [
            "['Crew', 'Crish', 'Crockett', 'Cross', 'Crossed', 'Crossing', 'Crotch', 'Crowding', 'Crown', 'Crozetts']\n"
          ],
          "name": "stdout"
        }
      ]
    },
    {
      "cell_type": "code",
      "metadata": {
        "id": "gNepkF-5nD-w",
        "colab_type": "code",
        "outputId": "056f9327-77c9-4533-99a2-1247c7028f06",
        "colab": {
          "base_uri": "https://localhost:8080/",
          "height": 34
        }
      },
      "source": [
        "# Riqueza léxica\n",
        "rl = len(vocabulario)/len(text1)\n",
        "print(rl)"
      ],
      "execution_count": 0,
      "outputs": [
        {
          "output_type": "stream",
          "text": [
            "0.07406285585022564\n"
          ],
          "name": "stdout"
        }
      ]
    },
    {
      "cell_type": "code",
      "metadata": {
        "id": "zGJ5UuUMnNFb",
        "colab_type": "code",
        "outputId": "8a11e1df-387a-4566-c336-0658440af410",
        "colab": {
          "base_uri": "https://localhost:8080/",
          "height": 34
        }
      },
      "source": [
        "# Funcion que calcula la riqueza lexica de un libro\n",
        "def riqueza_lexica(texto):\n",
        "  vocabulario = sorted(set(texto))  \n",
        "  return len(vocabulario)/len(texto)\n",
        "\n",
        "riqueza_lexica(text1)"
      ],
      "execution_count": 0,
      "outputs": [
        {
          "output_type": "execute_result",
          "data": {
            "text/plain": [
              "0.07406285585022564"
            ]
          },
          "metadata": {
            "tags": []
          },
          "execution_count": 10
        }
      ]
    },
    {
      "cell_type": "code",
      "metadata": {
        "id": "lI1S0LPmnrFM",
        "colab_type": "code",
        "colab": {}
      },
      "source": [
        "def porcentaje_palabra(palabra, texto):\n",
        "  return 100*texto.count(palabra)/len(texto)"
      ],
      "execution_count": 0,
      "outputs": []
    },
    {
      "cell_type": "code",
      "metadata": {
        "id": "7qi0-RGun2N3",
        "colab_type": "code",
        "outputId": "2aa953df-dafa-4250-9e03-095290ef951f",
        "colab": {
          "base_uri": "https://localhost:8080/",
          "height": 34
        }
      },
      "source": [
        "porcentaje_palabra('monster', text1)"
      ],
      "execution_count": 0,
      "outputs": [
        {
          "output_type": "execute_result",
          "data": {
            "text/plain": [
              "0.018786974875296663"
            ]
          },
          "metadata": {
            "tags": []
          },
          "execution_count": 12
        }
      ]
    },
    {
      "cell_type": "code",
      "metadata": {
        "id": "Ez3Fol6zn58X",
        "colab_type": "code",
        "outputId": "a08a8628-fec2-40bc-f7c2-066ee75f4bc1",
        "colab": {
          "base_uri": "https://localhost:8080/",
          "height": 34
        }
      },
      "source": [
        "text1.count('monster')"
      ],
      "execution_count": 0,
      "outputs": [
        {
          "output_type": "execute_result",
          "data": {
            "text/plain": [
              "49"
            ]
          },
          "metadata": {
            "tags": []
          },
          "execution_count": 13
        }
      ]
    },
    {
      "cell_type": "markdown",
      "metadata": {
        "id": "BmswKNJtwVR_",
        "colab_type": "text"
      },
      "source": [
        "# Estadística del Lenguaje\n",
        "\n",
        "Los cálculos estadísticos más simples que se pueden efectuar sobre un texto o un corpus son los relacionados con frecuencia de aparición de palabras.\n",
        "\n",
        "- Podemos construir un diccionario en python donde las llaves sean las palabras y los valores sean las frecuencias de ocurrencia de esas palabras\n",
        "\n",
        "- ejemplo `dic = {'monster':49, 'boat': 54, ...}`"
      ]
    },
    {
      "cell_type": "code",
      "metadata": {
        "id": "UU1VmBKboM1P",
        "colab_type": "code",
        "outputId": "233bb6ed-e844-4a35-b364-4bfe1c3cbef1",
        "colab": {
          "base_uri": "https://localhost:8080/",
          "height": 34
        }
      },
      "source": [
        "dic = {}\n",
        "\n",
        "\"\"\"\n",
        "NO recomendado por ser costoso computacionalmente\n",
        "for palabra in set(text1):\n",
        "  dic[palabra] = text1.count(palabra)\n",
        "\n",
        "dic\"\"\""
      ],
      "execution_count": 0,
      "outputs": [
        {
          "output_type": "execute_result",
          "data": {
            "text/plain": [
              "'\\nNO recomendado por ser costoso computacionalmente\\nfor palabra in set(text1):\\n  dic[palabra] = text1.count(palabra)\\n\\ndic'"
            ]
          },
          "metadata": {
            "tags": []
          },
          "execution_count": 14
        }
      ]
    },
    {
      "cell_type": "markdown",
      "metadata": {
        "id": "TssKSg1lxhxC",
        "colab_type": "text"
      },
      "source": [
        "## Método de FreqDist de NLTK"
      ]
    },
    {
      "cell_type": "code",
      "metadata": {
        "id": "N1Bk_Yb-xax6",
        "colab_type": "code",
        "colab": {}
      },
      "source": [
        "from nltk import FreqDist\n",
        "fdist = FreqDist(text1)"
      ],
      "execution_count": 0,
      "outputs": []
    },
    {
      "cell_type": "code",
      "metadata": {
        "id": "iYlpu0hxxoyX",
        "colab_type": "code",
        "outputId": "65865d42-a89d-4b12-91fc-2810afa6ace9",
        "colab": {
          "base_uri": "https://localhost:8080/",
          "height": 357
        }
      },
      "source": [
        "fdist.most_common(20)"
      ],
      "execution_count": 0,
      "outputs": [
        {
          "output_type": "execute_result",
          "data": {
            "text/plain": [
              "[(',', 18713),\n",
              " ('the', 13721),\n",
              " ('.', 6862),\n",
              " ('of', 6536),\n",
              " ('and', 6024),\n",
              " ('a', 4569),\n",
              " ('to', 4542),\n",
              " (';', 4072),\n",
              " ('in', 3916),\n",
              " ('that', 2982),\n",
              " (\"'\", 2684),\n",
              " ('-', 2552),\n",
              " ('his', 2459),\n",
              " ('it', 2209),\n",
              " ('I', 2124),\n",
              " ('s', 1739),\n",
              " ('is', 1695),\n",
              " ('he', 1661),\n",
              " ('with', 1659),\n",
              " ('was', 1632)]"
            ]
          },
          "metadata": {
            "tags": []
          },
          "execution_count": 16
        }
      ]
    },
    {
      "cell_type": "code",
      "metadata": {
        "id": "9gCboA8RyJZL",
        "colab_type": "code",
        "outputId": "92ce19cb-5230-4a7d-e2f0-9b29683c1b4a",
        "colab": {
          "base_uri": "https://localhost:8080/",
          "height": 290
        }
      },
      "source": [
        "fdist.plot(10)"
      ],
      "execution_count": 0,
      "outputs": [
        {
          "output_type": "display_data",
          "data": {
            "image/png": "[encoded data removed]",
            "text/plain": [
              "<Figure size 432x288 with 1 Axes>"
            ]
          },
          "metadata": {
            "tags": [],
            "needs_background": "light"
          }
        }
      ]
    },
    {
      "cell_type": "code",
      "metadata": {
        "id": "JG-AI4P9yRbd",
        "colab_type": "code",
        "outputId": "0bc8a55a-2da8-4ddd-b18c-43b26a46ff76",
        "colab": {
          "base_uri": "https://localhost:8080/",
          "height": 34
        }
      },
      "source": [
        "fdist['monster']"
      ],
      "execution_count": 0,
      "outputs": [
        {
          "output_type": "execute_result",
          "data": {
            "text/plain": [
              "49"
            ]
          },
          "metadata": {
            "tags": []
          },
          "execution_count": 18
        }
      ]
    },
    {
      "cell_type": "markdown",
      "metadata": {
        "id": "LRPBuvP_zTlL",
        "colab_type": "text"
      },
      "source": [
        "## Distribuciones sobre contenido con filtro-fino\n",
        "\n",
        "* Como vimos en la sección anterior, los tokens más frecuentes en un texto no son necesariamente las palabras que mas informacion nos arrojan sobre el contenido del mismo. \n",
        "* Por ello, es mejor filtrar y construir distribuciones de frecuencia que no consideren signos de puntuación o caracteres especiales"
      ]
    },
    {
      "cell_type": "code",
      "metadata": {
        "id": "ZPshnfA8yYjd",
        "colab_type": "code",
        "outputId": "ae2b3cce-f9a3-49e3-eaa4-824557bdd288",
        "colab": {
          "base_uri": "https://localhost:8080/",
          "height": 187
        }
      },
      "source": [
        "long_words = [palabra for palabra in text1 if len(palabra) > 5]\n",
        "vocabulario_filtrado = sorted(set(long_words))\n",
        "vocabulario_filtrado[:10]"
      ],
      "execution_count": 0,
      "outputs": [
        {
          "output_type": "execute_result",
          "data": {
            "text/plain": [
              "['ACCOUNT',\n",
              " 'ADDITIONAL',\n",
              " 'ADVANCING',\n",
              " 'ADVENTURES',\n",
              " 'AFFGHANISTAN',\n",
              " 'AFRICA',\n",
              " 'AGAINST',\n",
              " 'ALFRED',\n",
              " 'ALGERINE',\n",
              " 'AMERICA']"
            ]
          },
          "metadata": {
            "tags": []
          },
          "execution_count": 21
        }
      ]
    },
    {
      "cell_type": "markdown",
      "metadata": {
        "id": "CKlvz2Nk0lF0",
        "colab_type": "text"
      },
      "source": [
        "Podemos ahora construir una lista de tuplas, basados en los conteos ya pre-calculados de la función `FreqDist`, así:\n",
        "\n",
        "`fdist_filtrado = [('account', 2), ('additional', 32), ('advancing', 5), ...]`\n",
        "\n",
        "Luego podemos convertir el objeto creado a formato de `np.array`de **Numpy** para poder hacer un sort por palabras mas frecuentes.\n",
        "\n",
        "`fdist_filtrado = np.array(fdist_filtrado, *args)`\n",
        "\n",
        "`np.sort(fdist_filtrado, *args) = [('account', 2), ('advancing', 5), ('additional', 32), ...]`"
      ]
    },
    {
      "cell_type": "code",
      "metadata": {
        "id": "j8KdzERczyZl",
        "colab_type": "code",
        "colab": {}
      },
      "source": [
        "# Ordenando palabras en tuplas\n",
        "palabras_interesantes = [(palabra, fdist[palabra]) for palabra in set(text1) if len(palabra) > 5 and fdist[palabra] > 10]"
      ],
      "execution_count": 0,
      "outputs": []
    },
    {
      "cell_type": "code",
      "metadata": {
        "id": "0lnwJ03s1LHv",
        "colab_type": "code",
        "colab": {}
      },
      "source": [
        "dtypes = [('word', 'S10'), ('frecuency', int)]\n",
        "palabras_interesantes = np.array(palabras_interesantes, dtype=dtypes)"
      ],
      "execution_count": 0,
      "outputs": []
    },
    {
      "cell_type": "code",
      "metadata": {
        "id": "UGmIMLtR1NIT",
        "colab_type": "code",
        "outputId": "eb12936c-be90-4e79-cbca-be21702f43c6",
        "colab": {
          "base_uri": "https://localhost:8080/",
          "height": 85
        }
      },
      "source": [
        "palabras_interesantes = np.sort(palabras_interesantes, order = 'frecuency')\n",
        "palabras_interesantes[:10]"
      ],
      "execution_count": 0,
      "outputs": [
        {
          "output_type": "execute_result",
          "data": {
            "text/plain": [
              "array([(b'America', 11), (b'Father', 11), (b'Fleece', 11),\n",
              "       (b'Guernsey', 11), (b'Heaven', 11), (b'NANTUCKET', 11),\n",
              "       (b'Perseus', 11), (b'Ramadan', 11), (b'Therefore', 11),\n",
              "       (b'additional', 11)], dtype=[('word', 'S10'), ('frecuency', '<i8')])"
            ]
          },
          "metadata": {
            "tags": []
          },
          "execution_count": 28
        }
      ]
    },
    {
      "cell_type": "code",
      "metadata": {
        "id": "8wXnF_l71q01",
        "colab_type": "code",
        "colab": {}
      },
      "source": [
        "# Construccion de un grafico de barras customizado con Matplotlib\n",
        "# https://matplotlib.org/3.1.1/gallery/ticks_and_spines/custom_ticker1.html#sphx-glr-gallery-ticks-and-spines-custom-ticker1-py"
      ],
      "execution_count": 0,
      "outputs": []
    },
    {
      "cell_type": "code",
      "metadata": {
        "id": "2lv147Jg2P8p",
        "colab_type": "code",
        "outputId": "20b93e72-df54-45e6-ee31-614b6f8ff8e7",
        "colab": {
          "base_uri": "https://localhost:8080/",
          "height": 375
        }
      },
      "source": [
        "top_words = 20\n",
        "x = np.arange(len(palabras_interesantes[-top_words:]))\n",
        "y = [freq[1] for freq in palabras_interesantes[-top_words:]]\n",
        "plt.figure(figsize = (10, 5))\n",
        "plt.plot(x, y)\n",
        "plt.xticks(x, [str(freq[0]) for freq in palabras_interesantes[-top_words:]], rotation='vertical')\n",
        "plt.grid(True)\n",
        "plt.show()"
      ],
      "execution_count": 0,
      "outputs": [
        {
          "output_type": "display_data",
          "data": {
            "image/png": "[encoded data removed]",
            "text/plain": [
              "<Figure size 720x360 with 1 Axes>"
            ]
          },
          "metadata": {
            "tags": [],
            "needs_background": "light"
          }
        }
      ]
    },
    {
      "cell_type": "code",
      "metadata": {
        "id": "dSqKmrPB42ST",
        "colab_type": "code",
        "colab": {}
      },
      "source": [
        ""
      ],
      "execution_count": 0,
      "outputs": []
    }
  ]
}